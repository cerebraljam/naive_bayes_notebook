{
 "cells": [
  {
   "cell_type": "markdown",
   "metadata": {},
   "source": [
    "# Naive Bayes - Updating probabilities from a list of actions\n",
    "\n",
    "The idea of this notebook is to demonstrate how a list of actions can be used the prior probability of something being true or not.\n",
    "\n",
    "As an example scenario, Let's say that we are monitoring a web application, and we want to identify if a user is a buyer (1) or something else (0).\n",
    "\n",
    "To keep this simple, I will imit the possible actions to 4 actions: search, sell, buy, browse.\n"
   ]
  },
  {
   "cell_type": "code",
   "execution_count": 1,
   "metadata": {},
   "outputs": [],
   "source": [
    "# Defining the tests and their probabilities\n",
    "\n",
    "likelyhood = {}\n",
    "\n",
    "likelyhood['search'] = { # likelihood that a buyer will use the search function\n",
    "    1 : {\n",
    "        1: 0.6, # P(buyer | search) (True Positive)\n",
    "        0: 0.3 # P(-buyer | search) (False Positive)\n",
    "    },\n",
    "    0: {\n",
    "        1: 0.4, # P(buyer | -search) (True Negative)\n",
    "        0: 0.7 # P(-buyer | -search) (False Negative)\n",
    "    }\n",
    "}\n",
    "\n",
    "likelyhood['sell'] = { # likelihoods that a buyer will sell an item\n",
    "    1 : {\n",
    "        1: 0.05, # P(buyer | sell) (True Positive)\n",
    "        0: 0.5 # P(-buyer | sell) (False Positive)\n",
    "    },\n",
    "    0: {\n",
    "        1: 0.95, # P(buyer | -sell) (True Negative)\n",
    "        0: 0.5 # P(-buyer | -sell) (False Negative)\n",
    "    }\n",
    "}\n",
    "\n",
    "likelyhood['buy'] = { # likelihoods that a buyer will buy an item\n",
    "    1 : {\n",
    "        1: 0.3, # P(buyer | buy) (True Positive)\n",
    "        0: 0.2 # P(-buyer | buy) (False Positive)\n",
    "    },\n",
    "    0: {\n",
    "        1: 0.7, # P(buyer | -buy) (True Negative)\n",
    "        0: 0.8 # P(-buyer | -buy) (False Negative)\n",
    "    }\n",
    "}\n",
    "\n",
    "likelyhood['view'] = { # likelihoods that a buyer will view the details of an item\n",
    "    1 : {\n",
    "        1: 0.9, # P(buyer | view) (True Positive)\n",
    "        0: 0.85 # P(-buyer | view) (False Positive)\n",
    "    },\n",
    "    0: {\n",
    "        1: 0.1, # P(buyer | -view) (True Negative)\n",
    "        0: 0.15 # P(-buyer | -view) (False Negative)\n",
    "    }\n",
    "}"
   ]
  },
  {
   "cell_type": "code",
   "execution_count": 2,
   "metadata": {},
   "outputs": [],
   "source": [
    "def update_probability(prior_probability, test_name, distribution, test_result):\n",
    "    # Account for evidence\n",
    "    \n",
    "    likelihood = distribution[test_name][test_result][1]\n",
    "    non_likelihood = distribution[test_name][test_result][0]\n",
    "    \n",
    "    if test_result:\n",
    "        test_status = 'positive'\n",
    "    else:\n",
    "        test_status = 'negative'\n",
    "        \n",
    "    numerator = likelihood * prior_probability\n",
    "    denominator = (likelihood * prior_probability) + (non_likelihood * (1 - prior_probability))\n",
    "    \n",
    "    conditional_probability = numerator / denominator\n",
    "    \n",
    "    print('\\t* {} is {}. Prior probability is: {:.2f}%. Updated probability is: {:.2f}%'.format(test_name, test_status, 100 * prior_probability, 100 * conditional_probability))\n",
    "    \n",
    "    return conditional_probability"
   ]
  },
  {
   "cell_type": "code",
   "execution_count": 3,
   "metadata": {},
   "outputs": [],
   "source": [
    "def analyse_events(prior, events, legals):\n",
    "    print(\"Given the evidences '{}', what is the posterior probability that our user is a buyer?\".format(\",\".join(events)))\n",
    "    posterior = prior\n",
    "    for ee in events:\n",
    "        posterior = update_probability(posterior, ee, likelyhood, 1)\n",
    "    for ll in legal_actions:\n",
    "        if ll not in events:\n",
    "            posterior = update_probability(posterior, ll, likelyhood, 0)\n",
    "    return posterior"
   ]
  },
  {
   "cell_type": "code",
   "execution_count": 4,
   "metadata": {},
   "outputs": [],
   "source": [
    "# List of legal actions\n",
    "legal_actions = likelyhood.keys()\n",
    "\n",
    "# Prior: What is our initial belief that the user is a buyer\n",
    "prior = 0.5 "
   ]
  },
  {
   "cell_type": "markdown",
   "metadata": {},
   "source": [
    "# Updating our bliefs, given evidences\n",
    "\n",
    "Let's say that we are observing a chain of events. For each of these events, we want to update our belief about the user."
   ]
  },
  {
   "cell_type": "code",
   "execution_count": 5,
   "metadata": {
    "scrolled": true
   },
   "outputs": [
    {
     "name": "stdout",
     "output_type": "stream",
     "text": [
      "Given the evidences 'search,view,search,view,view,buy', what is the posterior probability that our user is a buyer?\n",
      "\t* search is positive. Prior probability is: 50.00%. Updated probability is: 66.67%\n",
      "\t* view is positive. Prior probability is: 66.67%. Updated probability is: 67.92%\n",
      "\t* search is positive. Prior probability is: 67.92%. Updated probability is: 80.90%\n",
      "\t* view is positive. Prior probability is: 80.90%. Updated probability is: 81.77%\n",
      "\t* view is positive. Prior probability is: 81.77%. Updated probability is: 82.60%\n",
      "\t* buy is positive. Prior probability is: 82.60%. Updated probability is: 87.69%\n",
      "\t* sell is negative. Prior probability is: 87.69%. Updated probability is: 93.12%\n",
      "Probability that our user is a buyer is: 93.12%\n"
     ]
    }
   ],
   "source": [
    "events = ['search', 'view', 'search', 'view', 'view', 'buy']\n",
    "\n",
    "posterior = analyse_events(prior, events, legal_actions)\n",
    "print(\"Probability that our user is a buyer is: {:.2f}%\".format(100 * posterior))"
   ]
  },
  {
   "cell_type": "code",
   "execution_count": 6,
   "metadata": {},
   "outputs": [
    {
     "name": "stdout",
     "output_type": "stream",
     "text": [
      "Given the evidences 'search,view,view,view,sell,sell', what is the posterior probability that our user is a buyer?\n",
      "\t* search is positive. Prior probability is: 50.00%. Updated probability is: 66.67%\n",
      "\t* view is positive. Prior probability is: 66.67%. Updated probability is: 67.92%\n",
      "\t* view is positive. Prior probability is: 67.92%. Updated probability is: 69.16%\n",
      "\t* view is positive. Prior probability is: 69.16%. Updated probability is: 70.36%\n",
      "\t* sell is positive. Prior probability is: 70.36%. Updated probability is: 19.19%\n",
      "\t* sell is positive. Prior probability is: 19.19%. Updated probability is: 2.32%\n",
      "\t* buy is negative. Prior probability is: 2.32%. Updated probability is: 2.04%\n",
      "Probability that our user is a buyer is: 2.04%\n"
     ]
    }
   ],
   "source": [
    "events = ['search', 'view', 'view', 'view', 'sell', 'sell']\n",
    "\n",
    "posterior = analyse_events(prior, events, legal_actions)\n",
    "print(\"Probability that our user is a buyer is: {:.2f}%\".format(100 * posterior))\n"
   ]
  },
  {
   "cell_type": "code",
   "execution_count": 7,
   "metadata": {},
   "outputs": [
    {
     "name": "stdout",
     "output_type": "stream",
     "text": [
      "Given the evidences 'buy,sell,view,sell,buy,view', what is the posterior probability that our user is a buyer?\n",
      "\t* buy is positive. Prior probability is: 50.00%. Updated probability is: 60.00%\n",
      "\t* sell is positive. Prior probability is: 60.00%. Updated probability is: 13.04%\n",
      "\t* view is positive. Prior probability is: 13.04%. Updated probability is: 13.71%\n",
      "\t* sell is positive. Prior probability is: 13.71%. Updated probability is: 1.56%\n",
      "\t* buy is positive. Prior probability is: 1.56%. Updated probability is: 2.33%\n",
      "\t* view is positive. Prior probability is: 2.33%. Updated probability is: 2.46%\n",
      "\t* search is negative. Prior probability is: 2.46%. Updated probability is: 1.42%\n",
      "Probability that our user is a buyer is: 1.42%\n"
     ]
    }
   ],
   "source": [
    "events = ['buy', 'sell', 'view', 'sell', 'buy', 'view']\n",
    "\n",
    "posterior = analyse_events(prior, events, legal_actions)\n",
    "print(\"Probability that our user is a buyer is: {:.2f}%\".format(100 * posterior))"
   ]
  }
 ],
 "metadata": {
  "kernelspec": {
   "display_name": "Python [default]",
   "language": "python",
   "name": "python3"
  },
  "language_info": {
   "codemirror_mode": {
    "name": "ipython",
    "version": 3
   },
   "file_extension": ".py",
   "mimetype": "text/x-python",
   "name": "python",
   "nbconvert_exporter": "python",
   "pygments_lexer": "ipython3",
   "version": "3.5.4"
  }
 },
 "nbformat": 4,
 "nbformat_minor": 2
}
