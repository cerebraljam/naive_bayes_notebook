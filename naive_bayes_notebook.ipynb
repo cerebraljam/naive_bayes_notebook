{
 "cells": [
  {
   "cell_type": "markdown",
   "metadata": {},
   "source": [
    "# Naive Bayes - Updating probabilities from a list of actions\n",
    "\n",
    "The idea of this notebook is to demonstrate how a list of actions can be used to update the probabilities of something being true or not.\n",
    "\n",
    "## Scenario\n",
    "As an example scenario, Let's say that we are monitoring a web application, and we want to identify if a user is a buyer (1) or something else (0).\n",
    "\n",
    "## Observable Variables\n",
    "To keep this simple, I will limit the possible actions to 4 actions: search, sell, buy, view.\n"
   ]
  },
  {
   "cell_type": "code",
   "execution_count": 1,
   "metadata": {
    "collapsed": true
   },
   "outputs": [],
   "source": [
    "# Defining the tests and their probabilities\n",
    "\n",
    "buyer_likelihood = {}\n",
    "\n",
    "buyer_likelihood['search'] = { # likelihood that a buyer will use the search function\n",
    "    1 : { \n",
    "        1: 0.6, # P(buyer | search) (True Positive)\n",
    "        0: 0.3 # P(-buyer | search) (False Positive)\n",
    "    },\n",
    "    0: {\n",
    "        1: 0.4, # P(buyer | -search) (True Negative)\n",
    "        0: 0.7 # P(-buyer | -search) (False Negative)\n",
    "    }\n",
    "}\n",
    "\n",
    "buyer_likelihood['sell'] = { # likelihoods that a buyer will sell an item\n",
    "    1 : {\n",
    "        1: 0.05, # P(buyer | sell) (True Positive)\n",
    "        0: 0.5 # P(-buyer | sell) (False Positive)\n",
    "    },\n",
    "    0: {\n",
    "        1: 0.95, # P(buyer | -sell) (True Negative)\n",
    "        0: 0.5 # P(-buyer | -sell) (False Negative)\n",
    "    }\n",
    "}\n",
    "\n",
    "buyer_likelihood['buy'] = { # likelihoods that a buyer will buy an item\n",
    "    1 : {\n",
    "        1: 0.3, # P(buyer | buy) (True Positive)\n",
    "        0: 0.2 # P(-buyer | buy) (False Positive)\n",
    "    },\n",
    "    0: {\n",
    "        1: 0.7, # P(buyer | -buy) (True Negative)\n",
    "        0: 0.8 # P(-buyer | -buy) (False Negative)\n",
    "    }\n",
    "}\n",
    "\n",
    "buyer_likelihood['view'] = { # likelihoods that a buyer will view the details of an item\n",
    "    1 : {\n",
    "        1: 0.9, # P(buyer | view) (True Positive)\n",
    "        0: 0.85 # P(-buyer | view) (False Positive)\n",
    "    },\n",
    "    0: {\n",
    "        1: 0.1, # P(buyer | -view) (True Negative)\n",
    "        0: 0.15 # P(-buyer | -view) (False Negative)\n",
    "    }\n",
    "}"
   ]
  },
  {
   "cell_type": "code",
   "execution_count": 2,
   "metadata": {
    "collapsed": true
   },
   "outputs": [],
   "source": [
    "def update_probability(prior_probability, test_name, distribution, test_result):\n",
    "    \n",
    "    # Account for evidences  \n",
    "    if test_name in distribution.keys(): ## First, let's check if we have probabilities for the requested test_name\n",
    "        ## If so, we use these probabilities instead of the default ones\n",
    "        likelihood = distribution[test_name][test_result][1]\n",
    "        non_likelihood = distribution[test_name][test_result][0]\n",
    "        if test_result:\n",
    "            test_status = 'positive'\n",
    "        else:\n",
    "            test_status = 'negative'\n",
    "    else:  ## if not, we go for generic values\n",
    "        likelihood = 0.5\n",
    "        non_likelihood = 0.5\n",
    "        test_status = 'unknown'\n",
    "      \n",
    "    numerator = likelihood * prior_probability\n",
    "    denominator = (likelihood * prior_probability) + (non_likelihood * (1 - prior_probability))\n",
    "    \n",
    "    conditional_probability = numerator / denominator\n",
    "    \n",
    "    print('\\t* \"{}\" is {}. Prior probability is: {:.2f}%. Updated probability is: {:.2f}%'.format(test_name, test_status, 100 * prior_probability, 100 * conditional_probability))\n",
    "    \n",
    "    return conditional_probability"
   ]
  },
  {
   "cell_type": "code",
   "execution_count": 3,
   "metadata": {
    "collapsed": true
   },
   "outputs": [],
   "source": [
    "def analyse_events(prior, events, legals, likelihood):\n",
    "    posterior = prior\n",
    "    for ee in events:\n",
    "        posterior = update_probability(posterior, ee, likelihood, 1)\n",
    "    for ll in legals:\n",
    "        if ll not in events:\n",
    "            posterior = update_probability(posterior, ll, likelihood, 0)\n",
    "    return posterior"
   ]
  },
  {
   "cell_type": "code",
   "execution_count": 4,
   "metadata": {
    "collapsed": true
   },
   "outputs": [],
   "source": [
    "# Prior: What is our initial belief that the user is a buyer\n",
    "prior = 0.5 \n",
    "\n",
    "# List of legal actions\n",
    "buyer_legal_actions = buyer_likelihood.keys()"
   ]
  },
  {
   "cell_type": "markdown",
   "metadata": {},
   "source": [
    "# Updating our bliefs, given evidences\n",
    "\n",
    "Let's say that we are observing a chain of events. For each of these events, we want to update our belief about the user."
   ]
  },
  {
   "cell_type": "markdown",
   "metadata": {},
   "source": [
    "## Buyer profile"
   ]
  },
  {
   "cell_type": "code",
   "execution_count": 5,
   "metadata": {
    "scrolled": true
   },
   "outputs": [
    {
     "name": "stdout",
     "output_type": "stream",
     "text": [
      "Given the evidences 'search,view,search,view,view,buy', what is the posterior probability that our user is a buyer?\n",
      "\t* \"search\" is positive. Prior probability is: 50.00%. Updated probability is: 66.67%\n",
      "\t* \"view\" is positive. Prior probability is: 66.67%. Updated probability is: 67.92%\n",
      "\t* \"search\" is positive. Prior probability is: 67.92%. Updated probability is: 80.90%\n",
      "\t* \"view\" is positive. Prior probability is: 80.90%. Updated probability is: 81.77%\n",
      "\t* \"view\" is positive. Prior probability is: 81.77%. Updated probability is: 82.60%\n",
      "\t* \"buy\" is positive. Prior probability is: 82.60%. Updated probability is: 87.69%\n",
      "\t* \"sell\" is negative. Prior probability is: 87.69%. Updated probability is: 93.12%\n",
      "Probability that our user is a buyer is: 93.12%\n"
     ]
    }
   ],
   "source": [
    "events = ['search', 'view', 'search', 'view', 'view', 'buy']\n",
    "\n",
    "print(\"Given the evidences '{}', what is the posterior probability that our user is a buyer?\".format(\",\".join(events)))\n",
    "\n",
    "buyer_posterior = analyse_events(prior, events, buyer_legal_actions, buyer_likelihood)\n",
    "print(\"Probability that our user is a buyer is: {:.2f}%\".format(100 * buyer_posterior))"
   ]
  },
  {
   "cell_type": "markdown",
   "metadata": {},
   "source": [
    "## Seller profile\n",
    "\n",
    "Notice that our test is trying to identify if the user is a buyer, not if s/he is a seller.\n",
    "If we wanted to know the probability that the user is a seller, we would need different likelihood data.\n",
    "\n",
    "Still, let's see how this model reacts."
   ]
  },
  {
   "cell_type": "code",
   "execution_count": 6,
   "metadata": {},
   "outputs": [
    {
     "name": "stdout",
     "output_type": "stream",
     "text": [
      "Given the evidences 'search,view,view,view,sell,sell', what is the posterior probability that our user is a buyer?\n",
      "\t* \"search\" is positive. Prior probability is: 50.00%. Updated probability is: 66.67%\n",
      "\t* \"view\" is positive. Prior probability is: 66.67%. Updated probability is: 67.92%\n",
      "\t* \"view\" is positive. Prior probability is: 67.92%. Updated probability is: 69.16%\n",
      "\t* \"view\" is positive. Prior probability is: 69.16%. Updated probability is: 70.36%\n",
      "\t* \"sell\" is positive. Prior probability is: 70.36%. Updated probability is: 19.19%\n",
      "\t* \"sell\" is positive. Prior probability is: 19.19%. Updated probability is: 2.32%\n",
      "\t* \"buy\" is negative. Prior probability is: 2.32%. Updated probability is: 2.04%\n",
      "Probability that our user is a buyer is: 2.04%\n"
     ]
    }
   ],
   "source": [
    "events = ['search', 'view', 'view', 'view', 'sell', 'sell']\n",
    "\n",
    "print(\"Given the evidences '{}', what is the posterior probability that our user is a buyer?\".format(\",\".join(events)))\n",
    "\n",
    "buyer_posterior = analyse_events(prior, events, buyer_legal_actions, buyer_likelihood)\n",
    "print(\"Probability that our user is a buyer is: {:.2f}%\".format(100 * buyer_posterior))"
   ]
  },
  {
   "cell_type": "markdown",
   "metadata": {},
   "source": [
    "## Power whatever profile\n",
    "\n",
    "Let's say that our user is actually a hobbyist trying to buy cheap and resell at a higher price, and therefore make money over other sellers who are willing to sell for cheaper than they should. How would our model react?"
   ]
  },
  {
   "cell_type": "code",
   "execution_count": 7,
   "metadata": {},
   "outputs": [
    {
     "name": "stdout",
     "output_type": "stream",
     "text": [
      "Given the evidences 'buy,sell,view,sell,buy,view', what is the posterior probability that our user is a buyer?\n",
      "\t* \"buy\" is positive. Prior probability is: 50.00%. Updated probability is: 60.00%\n",
      "\t* \"sell\" is positive. Prior probability is: 60.00%. Updated probability is: 13.04%\n",
      "\t* \"view\" is positive. Prior probability is: 13.04%. Updated probability is: 13.71%\n",
      "\t* \"sell\" is positive. Prior probability is: 13.71%. Updated probability is: 1.56%\n",
      "\t* \"buy\" is positive. Prior probability is: 1.56%. Updated probability is: 2.33%\n",
      "\t* \"view\" is positive. Prior probability is: 2.33%. Updated probability is: 2.46%\n",
      "\t* \"search\" is negative. Prior probability is: 2.46%. Updated probability is: 1.42%\n",
      "Probability that our user is a buyer is: 1.42%\n"
     ]
    }
   ],
   "source": [
    "events = ['buy', 'sell', 'view', 'sell', 'buy', 'view']\n",
    "\n",
    "print(\"Given the evidences '{}', what is the posterior probability that our user is a buyer?\".format(\",\".join(events)))\n",
    "\n",
    "buyer_posterior = analyse_events(prior, events, buyer_legal_actions, buyer_likelihood)\n",
    "print(\"Probability that our user is a buyer is: {:.2f}%\".format(100 * buyer_posterior))"
   ]
  },
  {
   "cell_type": "markdown",
   "metadata": {},
   "source": [
    "The probability of our user being a buyer is really low, even if he is buying a lot. This tells us that he is doing something else that doesn't fit the normal behaviour. This could worth investigating."
   ]
  },
  {
   "cell_type": "markdown",
   "metadata": {},
   "source": [
    "## What happen if we test with unknown variables?\n",
    "\n",
    "Let's say that our user is trying to commit fraud, what would happen?\n",
    "\n",
    "Because the variables are unknown, we can't update positively or negatively the posterior. We could of course configure a default value that would move the results in one direction or the other, but this could also generate false results.\n",
    "\n",
    "Because of this, the update_probability function will use a 50%/50% probability, which has the impact of not changing anything."
   ]
  },
  {
   "cell_type": "code",
   "execution_count": 8,
   "metadata": {},
   "outputs": [
    {
     "name": "stdout",
     "output_type": "stream",
     "text": [
      "Given the evidences 'login fail,login fail,login,address change,buy,logout', what is the posterior probability that our user is a buyer?\n",
      "\t* \"login fail\" is unknown. Prior probability is: 50.00%. Updated probability is: 50.00%\n",
      "\t* \"login fail\" is unknown. Prior probability is: 50.00%. Updated probability is: 50.00%\n",
      "\t* \"login\" is unknown. Prior probability is: 50.00%. Updated probability is: 50.00%\n",
      "\t* \"address change\" is unknown. Prior probability is: 50.00%. Updated probability is: 50.00%\n",
      "\t* \"buy\" is positive. Prior probability is: 50.00%. Updated probability is: 60.00%\n",
      "\t* \"logout\" is unknown. Prior probability is: 60.00%. Updated probability is: 60.00%\n",
      "\t* \"search\" is negative. Prior probability is: 60.00%. Updated probability is: 46.15%\n",
      "\t* \"sell\" is negative. Prior probability is: 46.15%. Updated probability is: 61.96%\n",
      "\t* \"view\" is negative. Prior probability is: 61.96%. Updated probability is: 52.05%\n",
      "Probability that our user is a buyer is: 52.05%\n"
     ]
    }
   ],
   "source": [
    "events = ['login fail', 'login fail', 'login', 'address change', 'buy', 'logout']\n",
    "\n",
    "print(\"Given the evidences '{}', what is the posterior probability that our user is a buyer?\".format(\",\".join(events)))\n",
    "\n",
    "buyer_posterior = analyse_events(prior, events, buyer_legal_actions, buyer_likelihood)\n",
    "print(\"Probability that our user is a buyer is: {:.2f}%\".format(100 * buyer_posterior))"
   ]
  },
  {
   "cell_type": "markdown",
   "metadata": {},
   "source": [
    "The presence of unknown variables should be a huge red flag that user is doing something that isn't covered by our model. \n",
    "\n",
    "We could just ignore these variable because we might think that they are noise, or maybe we could create another probability distribution that addresses these new variables."
   ]
  },
  {
   "cell_type": "markdown",
   "metadata": {},
   "source": [
    "### Add the missing variables to the buyer's likelihood\n",
    "\n",
    "Let's add the missing variables for the buyer and try again."
   ]
  },
  {
   "cell_type": "code",
   "execution_count": 9,
   "metadata": {
    "collapsed": true
   },
   "outputs": [],
   "source": [
    "buyer_likelihood['login'] = { # likelihood that a fraudster will login\n",
    "    1 : { \n",
    "        1: 0.8, # P(fraudster | login) (True Positive)\n",
    "        0: 0.6 # P(-fraudster | login) (False Positive)\n",
    "    },\n",
    "    0: {\n",
    "        1: 0.2, # P(fraudster | -login) (True Negative)\n",
    "        0: 0.4 # P(-fraudster | -login) (False Negative)\n",
    "    }\n",
    "}\n",
    "\n",
    "buyer_likelihood['login fail'] = { # likelihood that a fraudster will fail to login\n",
    "    1 : { \n",
    "        1: 0.2, # P(fraudster | login fail) (True Positive)\n",
    "        0: 0.9 # P(-fraudster | login fail) (False Positive)\n",
    "    },\n",
    "    0: {\n",
    "        1: 0.8, # P(fraudster | -login fail) (True Negative)\n",
    "        0: 0.1 # P(-fraudster | -login fail) (False Negative)\n",
    "    }\n",
    "}\n",
    "\n",
    "buyer_likelihood['address change'] = { # likelihood that a fraudster will use the address change function\n",
    "    1 : { \n",
    "        1: 0.4, # P(fraudster | address change) (True Positive)\n",
    "        0: 0.8 # P(-fraudster | address change) (False Positive)\n",
    "    },\n",
    "    0: {\n",
    "        1: 0.6, # P(fraudster | -address change) (True Negative)\n",
    "        0: 0.2 # P(-fraudster | -address change) (False Negative)\n",
    "    }\n",
    "}\n",
    "\n",
    "buyer_likelihood['logout'] = { # likelihood that a fraudster will use the logout function\n",
    "    1 : { \n",
    "        1: 0.2, # P(fraudster | logout) (True Positive)\n",
    "        0: 0.7 # P(-fraudster | logout) (False Positive)\n",
    "    },\n",
    "    0: {\n",
    "        1: 0.8, # P(fraudster | -logout) (True Negative)\n",
    "        0: 0.3 # P(-fraudster | -logout) (False Negative)\n",
    "    }\n",
    "}\n"
   ]
  },
  {
   "cell_type": "code",
   "execution_count": 10,
   "metadata": {},
   "outputs": [
    {
     "name": "stdout",
     "output_type": "stream",
     "text": [
      "Given the evidences 'login fail,login fail,login,address change,buy,logout', what is the posterior probability that our user is a buyer?\n",
      "\t* \"login fail\" is positive. Prior probability is: 50.00%. Updated probability is: 18.18%\n",
      "\t* \"login fail\" is positive. Prior probability is: 18.18%. Updated probability is: 4.71%\n",
      "\t* \"login\" is positive. Prior probability is: 4.71%. Updated probability is: 6.18%\n",
      "\t* \"address change\" is positive. Prior probability is: 6.18%. Updated probability is: 3.19%\n",
      "\t* \"buy\" is positive. Prior probability is: 3.19%. Updated probability is: 4.71%\n",
      "\t* \"logout\" is positive. Prior probability is: 4.71%. Updated probability is: 1.39%\n",
      "\t* \"search\" is negative. Prior probability is: 1.39%. Updated probability is: 0.80%\n",
      "\t* \"sell\" is negative. Prior probability is: 0.80%. Updated probability is: 1.51%\n",
      "\t* \"view\" is negative. Prior probability is: 1.51%. Updated probability is: 1.01%\n",
      "Probability that our user is a buyer is: 1.01%\n"
     ]
    }
   ],
   "source": [
    "print(\"Given the evidences '{}', what is the posterior probability that our user is a buyer?\".format(\",\".join(events)))\n",
    "\n",
    "buyer_posterior = analyse_events(prior, events, buyer_legal_actions, buyer_likelihood)\n",
    "print(\"Probability that our user is a buyer is: {:.2f}%\".format(100 * buyer_posterior))"
   ]
  },
  {
   "cell_type": "markdown",
   "metadata": {},
   "source": [
    "## Probability distributions for fraudsters"
   ]
  },
  {
   "cell_type": "code",
   "execution_count": 11,
   "metadata": {
    "collapsed": true
   },
   "outputs": [],
   "source": [
    "# Here we define probabilities distribution for a fraudsters\n",
    "\n",
    "fraudster_likelihood = {}\n",
    "\n",
    "fraudster_likelihood['login'] = { # likelihood that a fraudster will login\n",
    "    1 : { \n",
    "        1: 0.6, # P(fraudster | login) (True Positive)\n",
    "        0: 0.8 # P(-fraudster | login) (False Positive)\n",
    "    },\n",
    "    0: {\n",
    "        1: 0.4, # P(fraudster | -login) (True Negative)\n",
    "        0: 0.2 # P(-fraudster | -login) (False Negative)\n",
    "    }\n",
    "}\n",
    "\n",
    "fraudster_likelihood['login fail'] = { # likelihood that a fraudster will fail to login\n",
    "    1 : { \n",
    "        1: 0.9, # P(fraudster | login fail) (True Positive)\n",
    "        0: 0.2 # P(-fraudster | login fail) (False Positive)\n",
    "    },\n",
    "    0: {\n",
    "        1: 0.1, # P(fraudster | -login fail) (True Negative)\n",
    "        0: 0.8 # P(-fraudster | -login fail) (False Negative)\n",
    "    }\n",
    "}\n",
    "\n",
    "fraudster_likelihood['address change'] = { # likelihood that a fraudster will use the address change function\n",
    "    1 : { \n",
    "        1: 0.8, # P(fraudster | address change) (True Positive)\n",
    "        0: 0.4 # P(-fraudster | address change) (False Positive)\n",
    "    },\n",
    "    0: {\n",
    "        1: 0.2, # P(fraudster | -address change) (True Negative)\n",
    "        0: 0.6 # P(-fraudster | -address change) (False Negative)\n",
    "    }\n",
    "}\n",
    "\n",
    "fraudster_likelihood['logout'] = { # likelihood that a fraudster will use the logout function\n",
    "    1 : { \n",
    "        1: 0.7, # P(fraudster | logout) (True Positive)\n",
    "        0: 0.2 # P(-fraudster | logout) (False Positive)\n",
    "    },\n",
    "    0: {\n",
    "        1: 0.3, # P(fraudster | -logout) (True Negative)\n",
    "        0: 0.8 # P(-fraudster | -logout) (False Negative)\n",
    "    }\n",
    "}\n",
    "\n",
    "fraudster_likelihood['search'] = { # likelihood that a fraudster will use the search function\n",
    "    1 : { \n",
    "        1: 0.8, # P(fraudster | search) (True Positive)\n",
    "        0: 0.6 # P(-fraudster | search) (False Positive)\n",
    "    },\n",
    "    0: {\n",
    "        1: 0.2, # P(fraudster | -search) (True Negative)\n",
    "        0: 0.4 # P(-fraudster | -search) (False Negative)\n",
    "    }\n",
    "}\n",
    "\n",
    "fraudster_likelihood['sell'] = { # likelihoods that a fraudster will sell an item\n",
    "    1 : {\n",
    "        1: 0.05, # P(fraudster | sell) (True Positive)\n",
    "        0: 0.5 # P(-fraudster | sell) (False Positive)\n",
    "    },\n",
    "    0: {\n",
    "        1: 0.95, # P(fraudster | -sell) (True Negative)\n",
    "        0: 0.5 # P(-fraudster | -sell) (False Negative)\n",
    "    }\n",
    "}\n",
    "\n",
    "fraudster_likelihood['buy'] = { # likelihoods that a fraudster will buy an item\n",
    "    1 : {\n",
    "        1: 0.4, # P(fraudster | buy) (True Positive)\n",
    "        0: 0.8 # P(-fraudster | buy) (False Positive)\n",
    "    },\n",
    "    0: {\n",
    "        1: 0.6, # P(fraudster | -buy) (True Negative)\n",
    "        0: 0.2 # P(-fraudster | -buy) (False Negative)\n",
    "    }\n",
    "}\n",
    "\n",
    "fraudster_likelihood['view'] = { # likelihoods that a fraudster will view the details of an item\n",
    "    1 : {\n",
    "        1: 0.4, # P(fraudster | view) (True Positive)\n",
    "        0: 0.85 # P(-fraudster | view) (False Positive)\n",
    "    },\n",
    "    0: {\n",
    "        1: 0.6, # P(fraudster | -view) (True Negative)\n",
    "        0: 0.15 # P(-fraudster | -view) (False Negative)\n",
    "    }\n",
    "}"
   ]
  },
  {
   "cell_type": "markdown",
   "metadata": {},
   "source": [
    "### Try with a new probability distribution matching for a fraudster's behaviour"
   ]
  },
  {
   "cell_type": "code",
   "execution_count": 12,
   "metadata": {},
   "outputs": [
    {
     "name": "stdout",
     "output_type": "stream",
     "text": [
      "Given the evidences 'login fail,login fail,login,address change,buy,logout', what is the posterior probability that our user is a fraudster?\n",
      "\t* \"login fail\" is positive. Prior probability is: 50.00%. Updated probability is: 81.82%\n",
      "\t* \"login fail\" is positive. Prior probability is: 81.82%. Updated probability is: 95.29%\n",
      "\t* \"login\" is positive. Prior probability is: 95.29%. Updated probability is: 93.82%\n",
      "\t* \"address change\" is positive. Prior probability is: 93.82%. Updated probability is: 96.81%\n",
      "\t* \"buy\" is positive. Prior probability is: 96.81%. Updated probability is: 93.82%\n",
      "\t* \"logout\" is positive. Prior probability is: 93.82%. Updated probability is: 98.15%\n",
      "\t* \"search\" is negative. Prior probability is: 98.15%. Updated probability is: 96.37%\n",
      "\t* \"sell\" is negative. Prior probability is: 96.37%. Updated probability is: 98.06%\n",
      "\t* \"view\" is negative. Prior probability is: 98.06%. Updated probability is: 99.51%\n",
      "Probability that our user is a fraudster is: 99.51%\n"
     ]
    }
   ],
   "source": [
    "events = ['login fail', 'login fail', 'login', 'address change', 'buy', 'logout']\n",
    "\n",
    "print(\"Given the evidences '{}', what is the posterior probability that our user is a fraudster?\".format(\",\".join(events)))\n",
    "\n",
    "# List of legal actions\n",
    "fraudster_legal_actions = fraudster_likelihood.keys()\n",
    "fraudster_posterior = analyse_events(prior, events, fraudster_legal_actions, fraudster_likelihood)\n",
    "print(\"Probability that our user is a fraudster is: {:.2f}%\".format(100 * fraudster_posterior))"
   ]
  }
 ],
 "metadata": {
  "kernelspec": {
   "display_name": "Python 3",
   "language": "python",
   "name": "python3"
  },
  "language_info": {
   "codemirror_mode": {
    "name": "ipython",
    "version": 3
   },
   "file_extension": ".py",
   "mimetype": "text/x-python",
   "name": "python",
   "nbconvert_exporter": "python",
   "pygments_lexer": "ipython3",
   "version": "3.6.1"
  }
 },
 "nbformat": 4,
 "nbformat_minor": 2
}
